{
 "cells": [
  {
   "cell_type": "code",
   "execution_count": 4,
   "id": "8402a6ee-df72-4a53-b97e-7c1ab0b119b7",
   "metadata": {},
   "outputs": [],
   "source": [
    "import requests\n",
    "import pandas as pd"
   ]
  },
  {
   "cell_type": "code",
   "execution_count": 10,
   "id": "7c8a4971-8198-4e3f-be1a-824ba4e87e51",
   "metadata": {},
   "outputs": [],
   "source": [
    "# Yelp Scraper or API Simulation"
   ]
  },
  {
   "cell_type": "code",
   "execution_count": 28,
   "id": "3d3687c4-583d-4e2d-b8de-83c1bd1d8ee1",
   "metadata": {},
   "outputs": [],
   "source": [
    "def get_village_data():\n",
    "    # Simulate fetching data from Yelp\n",
    "    village_data = {\n",
    "        \"name\": \"Village The Soul of India\",\n",
    "        \"address\": \"123 Example St, Hicksville\",\n",
    "        \"open_time\": \"10:00 AM\",\n",
    "        \"close_time\": \"9:00 PM\",\n",
    "        \"menu\": [\n",
    "            {\"item\": \"Paneer Tikka\", \"price\": 10.99},\n",
    "            {\"item\": \"Butter Chicken\", \"price\": 14.99},\n",
    "        ],\n",
    "    }\n",
    "    return village_data"
   ]
  },
  {
   "cell_type": "code",
   "execution_count": 32,
   "id": "9d688044-c374-4ec3-a281-f175e2261e34",
   "metadata": {},
   "outputs": [],
   "source": [
    "# Yelp or Google Maps API to find competitors"
   ]
  },
  {
   "cell_type": "code",
   "execution_count": 34,
   "id": "f898db10-e4e7-4f89-bfdb-73a8899f67dd",
   "metadata": {},
   "outputs": [],
   "source": [
    "def find_competitors(menu_items, location, radius=2):\n",
    "    # Dummy data for competitors\n",
    "    competitors = [\n",
    "        {\"name\": \"Competitor 1\", \"menu\": [{\"item\": \"Paneer Tikka\", \"price\": 9.99}]},\n",
    "        {\"name\": \"Competitor 2\", \"menu\": [{\"item\": \"Butter Chicken\", \"price\": 13.99}]},\n",
    "    ]\n",
    "    return competitors"
   ]
  },
  {
   "cell_type": "code",
   "execution_count": 36,
   "id": "1d69ac2d-5193-4373-97f3-3efd0d59cf5e",
   "metadata": {},
   "outputs": [],
   "source": [
    "# Display Village and Competitor Data"
   ]
  },
  {
   "cell_type": "code",
   "execution_count": 38,
   "id": "8c2b2555-5bfe-4784-a35e-8bcc8ac741f6",
   "metadata": {},
   "outputs": [],
   "source": [
    "def display_restaurant_data():\n",
    "    village_data = get_village_data()\n",
    "    competitors = find_competitors(village_data[\"menu\"], location=\"40.7549,-73.9840\")\n",
    "\n",
    "    print(f\"Village Restaurant: {village_data['name']}\")\n",
    "    print(\"Menu:\")\n",
    "    for item in village_data[\"menu\"]:\n",
    "        print(f\"  - {item['item']}: ${item['price']:.2f}\")\n",
    "\n",
    "    print(\"\\nTop Competitors:\")\n",
    "    for comp in competitors:\n",
    "        print(f\"Restaurant: {comp['name']}\")\n",
    "        for item in comp[\"menu\"]:\n",
    "            print(f\"  - {item['item']}: ${item['price']:.2f}\")"
   ]
  },
  {
   "cell_type": "code",
   "execution_count": 40,
   "id": "73cb04be-f410-4c60-9436-2a7da38f73a6",
   "metadata": {},
   "outputs": [],
   "source": [
    "# Fetch Google Maps Busy Times"
   ]
  },
  {
   "cell_type": "code",
   "execution_count": 42,
   "id": "43fe848d-6dd8-47d5-9d57-56fa7f9f8c28",
   "metadata": {},
   "outputs": [],
   "source": [
    "def get_busy_times():\n",
    "    # Simulated data\n",
    "    return {\"current_status\": \"busier than usual\"}"
   ]
  },
  {
   "cell_type": "code",
   "execution_count": 44,
   "id": "43fc3b91-deea-4622-8325-f62b342c1588",
   "metadata": {},
   "outputs": [],
   "source": [
    "# Fetch Weather from OpenWeatherMap"
   ]
  },
  {
   "cell_type": "code",
   "execution_count": 48,
   "id": "4d8db892-f1b5-41bd-95ce-cbc9811bc756",
   "metadata": {},
   "outputs": [],
   "source": [
    "def get_weather(lat, lon, api_key=\"YOUR_API_KEY\"):\n",
    "    url = \"https://api.openweathermap.org/data/2.5/weather\"\n",
    "    params = {\"lat\": lat, \"lon\": lon, \"appid\": api_key}\n",
    "    response = requests.get(url, params=params).json()\n",
    "\n",
    "    kelvin_temp = response[\"main\"][\"temp\"]\n",
    "    weather_data = {\n",
    "        \"temperature_fahrenheit\": (kelvin_temp - 273.15) * 9 / 5 + 32,\n",
    "        \"rain\": response.get(\"weather\", [{}])[0].get(\"main\", \"\"),\n",
    "    }\n",
    "    return weather_data"
   ]
  },
  {
   "cell_type": "code",
   "execution_count": 50,
   "id": "f3efd379-7b9e-4b54-a4f2-e9bc88cb058e",
   "metadata": {},
   "outputs": [],
   "source": [
    "def display_conditions():\n",
    "    busy_times = get_busy_times()\n",
    "    weather = get_weather(lat=40.7549, lon=-73.9840, api_key=\"YOUR_API_KEY\")\n",
    "\n",
    "    print(\"\\nConditions:\")\n",
    "    print(f\"Busy Times: {busy_times['current_status']}\")\n",
    "    print(f\"Temperature: {weather['temperature_fahrenheit']:.2f}°F\")\n",
    "    print(f\"Weather: {weather['rain']}\")"
   ]
  },
  {
   "cell_type": "code",
   "execution_count": 54,
   "id": "0fc3c274-0366-4997-862d-e75e733259ea",
   "metadata": {},
   "outputs": [],
   "source": [
    "from sklearn.linear_model import LinearRegression\n",
    "import numpy as np"
   ]
  },
  {
   "cell_type": "code",
   "execution_count": 56,
   "id": "4c557879-69fb-4ea4-afe4-1a07e1009626",
   "metadata": {},
   "outputs": [],
   "source": [
    "def predict_prices(village_menu, competitors, busy_status, weather):\n",
    "    data = pd.DataFrame(competitors)\n",
    "    lowest_prices = {item[\"item\"]: item[\"price\"] for comp in competitors for item in comp[\"menu\"]}\n",
    "\n",
    "    predicted_prices = {}\n",
    "    for item in village_menu:\n",
    "        base_price = lowest_prices.get(item[\"item\"], item[\"price\"])\n",
    "        price_factor = 1\n",
    "\n",
    "        if weather[\"temperature_fahrenheit\"] < 45 or weather[\"rain\"] in [\"Rain\", \"Snow\"] or busy_status[\"current_status\"] == \"busier than usual\":\n",
    "            price_factor += 0.2\n",
    "\n",
    "        predicted_prices[item[\"item\"]] = round(base_price * price_factor, 2)\n",
    "    return predicted_prices"
   ]
  },
  {
   "cell_type": "code",
   "execution_count": 58,
   "id": "b8e0f894-e11e-48d7-920d-17ebf592a8ff",
   "metadata": {},
   "outputs": [],
   "source": [
    "def show_predicted_menu():\n",
    "    village_data = get_village_data()\n",
    "    competitors = find_competitors(village_data[\"menu\"], location=\"40.7549,-73.9840\")\n",
    "    busy_status = get_busy_times()\n",
    "    weather = get_weather(lat=40.7549, lon=-73.9840, api_key=\"YOUR_API_KEY\")\n",
    "\n",
    "    predicted_menu = predict_prices(village_data[\"menu\"], competitors, busy_status, weather)\n",
    "\n",
    "    print(\"\\nPredicted Prices:\")\n",
    "    for item, price in predicted_menu.items():\n",
    "        print(f\"  - {item}: ${price:.2f}\")"
   ]
  },
  {
   "cell_type": "code",
   "execution_count": 60,
   "id": "50cc2f11-b92a-4270-a9c1-e76b8cb1c415",
   "metadata": {},
   "outputs": [
    {
     "name": "stdout",
     "output_type": "stream",
     "text": [
      "Village Restaurant: Village The Soul of India\n",
      "Menu:\n",
      "  - Paneer Tikka: $10.99\n",
      "  - Butter Chicken: $14.99\n",
      "\n",
      "Top Competitors:\n",
      "Restaurant: Competitor 1\n",
      "  - Paneer Tikka: $9.99\n",
      "Restaurant: Competitor 2\n",
      "  - Butter Chicken: $13.99\n"
     ]
    },
    {
     "ename": "KeyError",
     "evalue": "'main'",
     "output_type": "error",
     "traceback": [
      "\u001b[1;31m---------------------------------------------------------------------------\u001b[0m",
      "\u001b[1;31mKeyError\u001b[0m                                  Traceback (most recent call last)",
      "Cell \u001b[1;32mIn[60], line 6\u001b[0m\n\u001b[0;32m      3\u001b[0m display_restaurant_data()\n\u001b[0;32m      5\u001b[0m \u001b[38;5;66;03m# Part 2: Display Busy Times and Weather\u001b[39;00m\n\u001b[1;32m----> 6\u001b[0m display_conditions()\n\u001b[0;32m      8\u001b[0m \u001b[38;5;66;03m# Part 3: Show Predicted Prices\u001b[39;00m\n\u001b[0;32m      9\u001b[0m show_predicted_menu()\n",
      "Cell \u001b[1;32mIn[50], line 3\u001b[0m, in \u001b[0;36mdisplay_conditions\u001b[1;34m()\u001b[0m\n\u001b[0;32m      1\u001b[0m \u001b[38;5;28;01mdef\u001b[39;00m \u001b[38;5;21mdisplay_conditions\u001b[39m():\n\u001b[0;32m      2\u001b[0m     busy_times \u001b[38;5;241m=\u001b[39m get_busy_times()\n\u001b[1;32m----> 3\u001b[0m     weather \u001b[38;5;241m=\u001b[39m get_weather(lat\u001b[38;5;241m=\u001b[39m\u001b[38;5;241m40.7549\u001b[39m, lon\u001b[38;5;241m=\u001b[39m\u001b[38;5;241m-\u001b[39m\u001b[38;5;241m73.9840\u001b[39m, api_key\u001b[38;5;241m=\u001b[39m\u001b[38;5;124m\"\u001b[39m\u001b[38;5;124mYOUR_API_KEY\u001b[39m\u001b[38;5;124m\"\u001b[39m)\n\u001b[0;32m      5\u001b[0m     \u001b[38;5;28mprint\u001b[39m(\u001b[38;5;124m\"\u001b[39m\u001b[38;5;130;01m\\n\u001b[39;00m\u001b[38;5;124mConditions:\u001b[39m\u001b[38;5;124m\"\u001b[39m)\n\u001b[0;32m      6\u001b[0m     \u001b[38;5;28mprint\u001b[39m(\u001b[38;5;124mf\u001b[39m\u001b[38;5;124m\"\u001b[39m\u001b[38;5;124mBusy Times: \u001b[39m\u001b[38;5;132;01m{\u001b[39;00mbusy_times[\u001b[38;5;124m'\u001b[39m\u001b[38;5;124mcurrent_status\u001b[39m\u001b[38;5;124m'\u001b[39m]\u001b[38;5;132;01m}\u001b[39;00m\u001b[38;5;124m\"\u001b[39m)\n",
      "Cell \u001b[1;32mIn[48], line 6\u001b[0m, in \u001b[0;36mget_weather\u001b[1;34m(lat, lon, api_key)\u001b[0m\n\u001b[0;32m      3\u001b[0m params \u001b[38;5;241m=\u001b[39m {\u001b[38;5;124m\"\u001b[39m\u001b[38;5;124mlat\u001b[39m\u001b[38;5;124m\"\u001b[39m: lat, \u001b[38;5;124m\"\u001b[39m\u001b[38;5;124mlon\u001b[39m\u001b[38;5;124m\"\u001b[39m: lon, \u001b[38;5;124m\"\u001b[39m\u001b[38;5;124mappid\u001b[39m\u001b[38;5;124m\"\u001b[39m: api_key}\n\u001b[0;32m      4\u001b[0m response \u001b[38;5;241m=\u001b[39m requests\u001b[38;5;241m.\u001b[39mget(url, params\u001b[38;5;241m=\u001b[39mparams)\u001b[38;5;241m.\u001b[39mjson()\n\u001b[1;32m----> 6\u001b[0m kelvin_temp \u001b[38;5;241m=\u001b[39m response[\u001b[38;5;124m\"\u001b[39m\u001b[38;5;124mmain\u001b[39m\u001b[38;5;124m\"\u001b[39m][\u001b[38;5;124m\"\u001b[39m\u001b[38;5;124mtemp\u001b[39m\u001b[38;5;124m\"\u001b[39m]\n\u001b[0;32m      7\u001b[0m weather_data \u001b[38;5;241m=\u001b[39m {\n\u001b[0;32m      8\u001b[0m     \u001b[38;5;124m\"\u001b[39m\u001b[38;5;124mtemperature_fahrenheit\u001b[39m\u001b[38;5;124m\"\u001b[39m: (kelvin_temp \u001b[38;5;241m-\u001b[39m \u001b[38;5;241m273.15\u001b[39m) \u001b[38;5;241m*\u001b[39m \u001b[38;5;241m9\u001b[39m \u001b[38;5;241m/\u001b[39m \u001b[38;5;241m5\u001b[39m \u001b[38;5;241m+\u001b[39m \u001b[38;5;241m32\u001b[39m,\n\u001b[0;32m      9\u001b[0m     \u001b[38;5;124m\"\u001b[39m\u001b[38;5;124mrain\u001b[39m\u001b[38;5;124m\"\u001b[39m: response\u001b[38;5;241m.\u001b[39mget(\u001b[38;5;124m\"\u001b[39m\u001b[38;5;124mweather\u001b[39m\u001b[38;5;124m\"\u001b[39m, [{}])[\u001b[38;5;241m0\u001b[39m]\u001b[38;5;241m.\u001b[39mget(\u001b[38;5;124m\"\u001b[39m\u001b[38;5;124mmain\u001b[39m\u001b[38;5;124m\"\u001b[39m, \u001b[38;5;124m\"\u001b[39m\u001b[38;5;124m\"\u001b[39m),\n\u001b[0;32m     10\u001b[0m }\n\u001b[0;32m     11\u001b[0m \u001b[38;5;28;01mreturn\u001b[39;00m weather_data\n",
      "\u001b[1;31mKeyError\u001b[0m: 'main'"
     ]
    }
   ],
   "source": [
    "if __name__ == \"__main__\":\n",
    "    # Part 1: Display Village and Competitors\n",
    "    display_restaurant_data()\n",
    "\n",
    "    # Part 2: Display Busy Times and Weather\n",
    "    display_conditions()\n",
    "\n",
    "    # Part 3: Show Predicted Prices\n",
    "    show_predicted_menu()"
   ]
  },
  {
   "cell_type": "code",
   "execution_count": null,
   "id": "55b552ad-4dc1-4f7f-8f04-5c363f0cab4e",
   "metadata": {},
   "outputs": [],
   "source": []
  }
 ],
 "metadata": {
  "kernelspec": {
   "display_name": "Python 3 (ipykernel)",
   "language": "python",
   "name": "python3"
  },
  "language_info": {
   "codemirror_mode": {
    "name": "ipython",
    "version": 3
   },
   "file_extension": ".py",
   "mimetype": "text/x-python",
   "name": "python",
   "nbconvert_exporter": "python",
   "pygments_lexer": "ipython3",
   "version": "3.12.4"
  }
 },
 "nbformat": 4,
 "nbformat_minor": 5
}
